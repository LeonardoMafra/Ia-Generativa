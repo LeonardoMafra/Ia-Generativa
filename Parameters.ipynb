{
  "cells": [
    {
      "cell_type": "markdown",
      "metadata": {
        "id": "view-in-github",
        "colab_type": "text"
      },
      "source": [
        "<a href=\"https://colab.research.google.com/github/LeonardoMafra/Ia-Generativa/blob/main/Parameters.ipynb\" target=\"_parent\"><img src=\"https://colab.research.google.com/assets/colab-badge.svg\" alt=\"Open In Colab\"/></a>"
      ]
    },
    {
      "cell_type": "markdown",
      "source": [
        "Estudo sobre os parametros para melhorar os resultados dos modelos em IA Generativa:\n",
        "\n",
        "**Temperatura** é um parâmetro que controla a aleatoriedade da saída gerada pelo modelo de IA. Uma temperatura mais baixa resulta em saídas mais previsíveis e conservadoras. Para comparar, uma temperatura mais alta permite mais criatividade.\n",
        "\n",
        "**Max_output_tokens** é o parametro para limitar a saida de tokens na resposta dos modelos.\n",
        "\n",
        "**Seed** é um valor numérico que atua como ponto de partida para um gerador de números pseudoaleatórios. A seed garante que, usando os mesmos parâmetros de entrada (incluindo o prompt, se aplicável), o modelo de IA produzirá sempre o mesmo resultado de maneira consistente e reproduzível.\n",
        "\n",
        "**Top_p** é um parâmetro usado em modelos de linguagem para controlar a aleatoriedade e a diversidade do texto gerado.\n",
        "\n",
        "**Top_k** é método de amostragem usado em grandes modelos de linguagem (LLMs) para controlar a aleatoriedade e a qualidade do texto gerado.\n",
        "\n"
      ],
      "metadata": {
        "id": "8QF-I2KQFuhY"
      },
      "id": "8QF-I2KQFuhY"
    },
    {
      "cell_type": "code",
      "execution_count": null,
      "id": "688606df",
      "metadata": {
        "id": "688606df"
      },
      "outputs": [],
      "source": [
        "import yaml\n",
        "from google import genai\n",
        "from google.genai import types"
      ]
    },
    {
      "cell_type": "code",
      "execution_count": null,
      "id": "27f275c2",
      "metadata": {
        "id": "27f275c2"
      },
      "outputs": [],
      "source": [
        "with open('config.yaml','r') as config_file:\n",
        "    config = yaml.safe_load(config_file)"
      ]
    },
    {
      "cell_type": "code",
      "execution_count": null,
      "id": "b52ac5bc",
      "metadata": {
        "id": "b52ac5bc"
      },
      "outputs": [],
      "source": [
        "client = genai.Client(api_key=config['KEY'])\n"
      ]
    },
    {
      "cell_type": "code",
      "execution_count": null,
      "id": "fcd3259a",
      "metadata": {
        "id": "fcd3259a"
      },
      "outputs": [],
      "source": [
        "def convert_messages_to_gemini(messages):\n",
        "    contents = []\n",
        "    for message in messages:\n",
        "        if message[\"role\"] == \"system\":\n",
        "            contents.append(types.Content(\n",
        "                role = \"user\",\n",
        "                parts = [types.Part(text = f\"Instruções do sistema: {message['content']}\")]\n",
        "            ))\n",
        "        else:\n",
        "            contents.append(types.Content(\n",
        "            role=message[\"role\"],\n",
        "            parts=[types.Part(text=message[\"content\"])]\n",
        "        ))\n",
        "    return contents"
      ]
    },
    {
      "cell_type": "code",
      "execution_count": null,
      "id": "29f25562",
      "metadata": {
        "id": "29f25562"
      },
      "outputs": [],
      "source": [
        "messages = [\n",
        "    {\"role\": \"system\", \"content\" : \"Você é um contador de histórias.\"},\n",
        "    {\"role\": \"user\", \"content\": \"Conte uma história de terror\"}\n",
        "]"
      ]
    },
    {
      "cell_type": "code",
      "execution_count": null,
      "id": "fa4797e2",
      "metadata": {
        "id": "fa4797e2"
      },
      "outputs": [],
      "source": [
        "response = client.models.generate_content(\n",
        "    model = \"gemini-2.5-flash\",\n",
        "    contents = convert_messages_to_gemini(messages),\n",
        "    config={\n",
        "        \"temperature\": 1.0, # varia de 0.1 a 1 sendo que esse parameotro quanto mais baixo o modelo segue o tema passado enquanto mais proximo de 1 o modelo tem mais liberdade para criação\n",
        "        \"max_output_tokens\": 500,\n",
        "        \"seed\": 123,\n",
        "        \"top_p\":0.9,\n",
        "        \"top_k\":40\n",
        "    }\n",
        ")"
      ]
    },
    {
      "cell_type": "code",
      "execution_count": null,
      "id": "1d13998c",
      "metadata": {
        "id": "1d13998c",
        "outputId": "74df6bdd-c0a5-4171-c506-2f4aa1fd755f"
      },
      "outputs": [
        {
          "name": "stdout",
          "output_type": "stream",
          "text": [
            "Excelente! Prepare-se, pois a escuridão tem muitas faces, e algumas delas... bem, elas nos observam de onde menos esperamos.\n",
            "\n",
            "***\n",
            "\n",
            "**O Espelho do Olhar Morto**\n",
            "\n",
            "O silêncio era a única companhia de Elias na velha cabana nas montanhas. Tinha vindo em busca de inspiração para seu novo romance de terror, um lugar isolado onde o vento uivava como um lamento e as árvores sussurravam segredos antigos. A cabana era rústica, mas acolhedora, com uma lareira que estalava e um cheiro persistente de madeira e terra molhada.\n",
            "\n",
            "Havia apenas um objeto que o inquietava: um espelho de moldura escura e entalhada, pendurado na parede do quarto. Não era grande, talvez uns cinquenta centímetros de altura, mas parecia antigo, ancestral. Sua superfície era estranhamente turva, não como se estivesse suja, mas como se o próprio vidro tivesse envelhecido, guardando as imagens de séculos passados em suas profundezas.\n",
            "\n",
            "Nas primeiras noites, Elias o ignorou. Escrevia furiosamente à luz bruxuleante da lamparina, imerso em seu mundo de horrores imaginados. Mas então, ele começou a sentir. Uma sensação gélida na nuca, como um sopro frio em um cômodo aquecido. Virava-se, mas não havia nada. O vento? A casa se ajeitando?\n",
            "\n",
            "Uma noite, enquanto escovava os dentes, olhou para o espelho por hábito. Seu reflexo estava lá, cansado, com olheiras. Mas por uma fração de segundo, ele jurou ter visto algo *mais*. Uma sombra esguia e alta, parada bem atrás de seu reflexo, seus contornos distorcidos, quase fluidos. Piscou. A sombra desapareceu. Apenas o vazio da parede atrás dele.\n",
            "\n",
            "\"Fadiga,\" murmurou Elias, sacudindo a cabeça. \"Estou me deixando levar pela minha própria ficção.\"\n",
            "\n",
            "Mas a sensação de ser observado persistia. E o espelho parecia chamá-lo. Seus olhos eram atraídos para a moldura escura, para a superfície opaca que parecia engolir a luz.\n",
            "\n",
            "Uma tarde chuvosa, Elias estava lendo na poltrona. O silêncio era interrompido apenas pelo tamborilar da chuva no telhado. Levantou os olhos, sem motivo aparente, e seu olhar foi diretamente para o espelho.\n",
            "\n",
            "Dessa vez, seu reflexo não estava sozinho. Havia uma figura borrada, mal discernible, *ao lado* de seu reflexo, no canto da imagem. Não era um vulto atrás, mas *dentro* do espelho, uma mancha escura na periferia de sua visão refletida. Seus batimentos cardíacos aceleraram. Ele virou a cabeça bruscamente para o lado, para a parede real. Nada.\n",
            "\n",
            "Olhou de volta para o espelho. A mancha sumira.\n",
            "\n",
            "A partir daquela noite, Elias tentou evitar o espelho. Colocou um cobertor sobre ele. Mas parecia que o próprio tecido se recusava a ficar no lugar, deslizando lentamente até o chão. Ele o cobriu novamente. No dia seguinte, estava no chão outra vez.\n",
            "\n",
            "Ele começou a ter pesadelos. Sonhava com olhos vazios que o observavam do escuro, com sussurros que prometiam coisas terríveis, com a sensação de estar preso, paralisado.\n",
            "\n",
            "Uma noite, ele acordou de repente. O quarto estava gelado. O fogo da lareira havia morrido. E a luz da lua, que antes mal penetrava as cortinas, agora inundava o quarto com uma pálida luz prateada, caindo diretamente sobre o espelho.\n",
            "\n",
            "Ele não conseguia desviar o olhar.\n",
            "\n",
            "Seu reflexo estava lá. Mas não estava *só*.\n",
            "\n",
            "Atrás dele, no reflexo, havia uma mulher. Cabelos longos e emaranhados, vestida com um camisolão branco e sujo. Seus braços estavam pendurados inertes ao lado do corpo, e sua cabeça estava ligeiramente inclinada, como se estivesse ouvindo algo que Elias não podia ouvir. E seus olhos... seus olhos eram poços escuros, sem pupilas, sem vida, fixos nele.\n",
            "\n",
            "Elias não conseguiu gritar. Seu corpo estava paralisado pelo terror. Ele tentou se virar, mas não podia. Seus músculos não respondiam.\n",
            "\n",
            "A mulher no espelho começou a se mover. Lentamente, ela estendeu uma mão ossuda. Seus dedos eram longos e pálidos, as unhas quebradas. Ela tocou o ombro do reflexo de Elias.\n",
            "\n",
            "O reflexo de Elias no espelho não se moveu. Mas Elias sentiu a frieza gélida e penetrante do toque em seu próprio ombro.\n",
            "\n",
            "Um sorriso lento e macabro se espalhou pelos lábios da mulher. Seus olhos vazios se arregalaram um pouco mais, e então, com um movimento quase imperceptível, ela *empurrou* o reflexo de Elias.\n",
            "\n",
            "O reflexo de Elias cambaleou, tropeçou para trás, e desapareceu nas profundezas escuras do espelho.\n",
            "\n",
            "Elias sentiu um puxão violento, como se uma força invisível o estivesse arrastando para trás. Ele lutou, finalmente encontrando força para mover as pernas, para gritar. Mas o grito saiu abafado, rouco.\n",
            "\n",
            "Ele se viu caindo, caindo em um abismo sem luz. O espelho, agora, mostrava apenas seu próprio rosto, distorcido pelo terror, os olhos arregalados, a boca aberta em um grito mudo, enquanto afundava na escuridão.\n",
            "\n",
            "Então, a imagem de Elias desapareceu.\n",
            "\n",
            "A mulher estava de volta, sozinha no espelho. Seu sorriso se alargou. E lentamente, com um movimento que era uma réplica perfeita do que Elias acabara de fazer, ela estendeu a mão para o lado, para o mundo real, para fora do espelho.\n",
            "\n",
            "Um som. Um estalo seco, como um osso quebrando.\n",
            "\n",
            "O espelho agora estava vazio, apenas a superfície turva refletindo o quarto frio. Mas na parede, a sombra esguia e alta se materializou. Não era uma sombra, era uma figura pálida e magra, seus cabelos longos e emaranhados, seu camisolão branco sujo. Seus olhos... eram poços escuros, sem pupilas, sem vida.\n",
            "\n",
            "A criatura deu um passo hesitante. Depois outro. Ela não olhava para o espelho. Ela olhava para o quarto, para as paredes de madeira, para a lareira fria. Como se estivesse explorando um novo ambiente.\n",
            "\n",
            "E então, ela virou sua cabeça ligeiramente, exatamente como fizera no espelho. E seus olhos vazios se fixaram em algo que Elias não podia ver, algo que estava fora da cabana, além das montanhas.\n",
            "\n",
            "Um sorriso lento e macabro se espalhou pelos lábios da criatura.\n",
            "\n",
            "O vento lá fora uivou, e o som parecia carregar um lamento distante, um grito de pavor que agora ecoava sem fronteiras. A criatura deu outro passo, mais confiante, e sumiu pela porta do quarto, em direção à escuridão da noite.\n",
            "\n",
            "Na superfície turva do espelho, por um instante, surgiu uma imagem: o rosto de Elias, congelado em um pavor primordial, seus olhos implorando por socorro das profundezas.\n",
            "\n",
            "Mas a imagem se desfez. E o espelho ficou, novamente, vazio. À espera.\n"
          ]
        }
      ],
      "source": [
        "print(response.text)"
      ]
    }
  ],
  "metadata": {
    "kernelspec": {
      "display_name": "Gemine",
      "language": "python",
      "name": "python3"
    },
    "language_info": {
      "codemirror_mode": {
        "name": "ipython",
        "version": 3
      },
      "file_extension": ".py",
      "mimetype": "text/x-python",
      "name": "python",
      "nbconvert_exporter": "python",
      "pygments_lexer": "ipython3",
      "version": "3.13.9"
    },
    "colab": {
      "provenance": [],
      "include_colab_link": true
    }
  },
  "nbformat": 4,
  "nbformat_minor": 5
}