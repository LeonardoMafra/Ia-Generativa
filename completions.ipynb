{
  "cells": [
    {
      "cell_type": "markdown",
      "metadata": {
        "id": "view-in-github",
        "colab_type": "text"
      },
      "source": [
        "<a href=\"https://colab.research.google.com/github/LeonardoMafra/Ia-Generativa/blob/main/completions.ipynb\" target=\"_parent\"><img src=\"https://colab.research.google.com/assets/colab-badge.svg\" alt=\"Open In Colab\"/></a>"
      ]
    },
    {
      "cell_type": "code",
      "execution_count": null,
      "id": "7c331ee9",
      "metadata": {
        "id": "7c331ee9"
      },
      "outputs": [],
      "source": [
        "import yaml\n",
        "from google import genai\n",
        "from google.genai import types"
      ]
    },
    {
      "cell_type": "code",
      "execution_count": null,
      "id": "d9dbb5e5",
      "metadata": {
        "id": "d9dbb5e5"
      },
      "outputs": [],
      "source": [
        "with open('config.yaml','r') as config_file:\n",
        "    config = yaml.safe_load(config_file)"
      ]
    },
    {
      "cell_type": "code",
      "execution_count": null,
      "id": "1f5bba8c",
      "metadata": {
        "id": "1f5bba8c",
        "outputId": "b7327fac-caad-4411-88df-aaa5875338ad"
      },
      "outputs": [
        {
          "name": "stdout",
          "output_type": "stream",
          "text": [
            "A Inteligência Artificial (IA) é importante por uma variedade de razões, impactando diversos setores e aspectos da vida humana. Aqui estão algumas das principais razões que justificam a sua importância:\n",
            "\n",
            "**1. Automação e Eficiência:**\n",
            "\n",
            "*   **Automatização de tarefas:** A IA pode automatizar tarefas repetitivas, demoradas e até perigosas, liberando humanos para atividades mais criativas e estratégicas.\n",
            "*   **Aumento da produtividade:** Ao automatizar processos, a IA aumenta a eficiência e a produtividade em diversas áreas, desde a manufatura até o atendimento ao cliente.\n",
            "*   **Redução de custos:** A automação impulsionada pela IA pode levar à redução de custos operacionais, otimizando o uso de recursos e minimizando erros.\n",
            "\n",
            "**2. Tomada de Decisão Aprimorada:**\n",
            "\n",
            "*   **Análise de dados complexos:** A IA pode analisar grandes volumes de dados de forma rápida e precisa, identificando padrões e insights que seriam difíceis de detectar por humanos.\n",
            "*   **Decisões mais informadas:** Com base na análise de dados, a IA auxilia na tomada de decisões mais informadas e estratégicas em áreas como finanças, marketing e saúde.\n",
            "*   **Previsões e planejamento:** A IA pode ser usada para prever tendências, demanda e outros fatores relevantes, auxiliando no planejamento e na otimização de recursos.\n",
            "\n",
            "**3. Inovação e Desenvolvimento:**\n",
            "\n",
            "*   **Criação de novos produtos e serviços:** A IA impulsiona a inovação, permitindo a criação de novos produtos e serviços em áreas como carros autônomos, assistentes virtuais e medicina personalizada.\n",
            "*   **Avanços científicos:** A IA acelera a pesquisa científica, auxiliando na descoberta de novos medicamentos, materiais e tecnologias.\n",
            "*   **Solução de problemas complexos:** A IA pode ser aplicada para resolver problemas complexos em áreas como mudanças climáticas, pobreza e saúde global.\n",
            "\n",
            "**4. Melhoria da Qualidade de Vida:**\n",
            "\n",
            "*   **Saúde:** A IA melhora o diagnóstico e tratamento de doenças, desenvolve medicamentos personalizados e auxilia no monitoramento da saúde.\n",
            "*   **Educação:** A IA personaliza o aprendizado, oferece tutoria individualizada e facilita o acesso à educação.\n",
            "*   **Acessibilidade:** A IA cria tecnologias assistivas que melhoram a qualidade de vida de pessoas com deficiência.\n",
            "\n",
            "**5. Setores de Aplicação Diversificados:**\n",
            "\n",
            "*   **Saúde:** Diagnóstico médico, descoberta de medicamentos, monitoramento de pacientes.\n",
            "*   **Finanças:** Detecção de fraudes, análise de risco, negociação automatizada.\n",
            "*   **Varejo:** Personalização de ofertas, previsão de demanda, otimização de estoque.\n",
            "*   **Manufatura:** Automação de processos, controle de qualidade, manutenção preditiva.\n",
            "*   **Transporte:** Carros autônomos, otimização de rotas, gestão de tráfego.\n",
            "*   **Agricultura:** Monitoramento de plantações, otimização de irrigação, previsão de colheitas.\n",
            "\n",
            "É importante notar que a IA também apresenta desafios e preocupações, como o viés algorítmico, o impacto no mercado de trabalho e a necessidade de regulamentação ética. No entanto, o potencial da IA para transformar a sociedade e melhorar a vida das pessoas é inegável, tornando-a uma área de grande importância e investimento.\n"
          ]
        }
      ],
      "source": [
        "# CRIAR CLIENTE GEMINI\n",
        "client = genai.Client(api_key=config['KEY'])\n",
        "\n",
        "#Definir prompt\n",
        "prompt = \"A inteligencia artificial é importante porque\"\n",
        "\n",
        "# Conteudo no formato esperado\n",
        "contents = [\n",
        "    types.Content(\n",
        "        role = \"user\",\n",
        "        parts = [types.Part.from_text(text=prompt)],\n",
        "    ),\n",
        "]\n",
        "\n",
        "# chamar o modelo do gemini\n",
        "\n",
        "response = client.models.generate_content(\n",
        "    model = \"gemini-2.0-flash\",\n",
        "    contents = contents,\n",
        "    config= types.GenerateContentConfig(\n",
        "        response_modalities=[\"TEXT\"]\n",
        "    )\n",
        ")\n",
        "\n",
        "# EXIBIR RESPOSTA DE TEXTO\n",
        "\n",
        "if (\n",
        "    response.candidates\n",
        "    and response.candidates[0].content\n",
        "    and response.candidates[0].content.parts\n",
        "):\n",
        "    print(response.candidates[0].content.parts[0].text)"
      ]
    }
  ],
  "metadata": {
    "kernelspec": {
      "display_name": "Gemine",
      "language": "python",
      "name": "python3"
    },
    "language_info": {
      "codemirror_mode": {
        "name": "ipython",
        "version": 3
      },
      "file_extension": ".py",
      "mimetype": "text/x-python",
      "name": "python",
      "nbconvert_exporter": "python",
      "pygments_lexer": "ipython3",
      "version": "3.13.9"
    },
    "colab": {
      "provenance": [],
      "include_colab_link": true
    }
  },
  "nbformat": 4,
  "nbformat_minor": 5
}