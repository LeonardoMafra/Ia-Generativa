{
  "cells": [
    {
      "cell_type": "markdown",
      "metadata": {
        "id": "view-in-github",
        "colab_type": "text"
      },
      "source": [
        "<a href=\"https://colab.research.google.com/github/LeonardoMafra/Ia-Generativa/blob/main/chat.ipynb\" target=\"_parent\"><img src=\"https://colab.research.google.com/assets/colab-badge.svg\" alt=\"Open In Colab\"/></a>"
      ]
    },
    {
      "cell_type": "code",
      "execution_count": null,
      "id": "89e0453d",
      "metadata": {
        "id": "89e0453d"
      },
      "outputs": [],
      "source": [
        "import yaml\n",
        "from google import genai\n",
        "from google.genai import types"
      ]
    },
    {
      "cell_type": "code",
      "execution_count": null,
      "id": "32958574",
      "metadata": {
        "id": "32958574"
      },
      "outputs": [],
      "source": [
        "with open('config.yaml','r') as config_file:\n",
        "    config = yaml.safe_load(config_file)"
      ]
    },
    {
      "cell_type": "code",
      "execution_count": null,
      "id": "c31f0612",
      "metadata": {
        "id": "c31f0612"
      },
      "outputs": [],
      "source": [
        "# CRIAR CLIENTE GEMINI\n",
        "client = genai.Client(api_key=config['KEY'])\n"
      ]
    },
    {
      "cell_type": "code",
      "execution_count": null,
      "id": "4cc12279",
      "metadata": {
        "id": "4cc12279"
      },
      "outputs": [],
      "source": [
        "# chamar o modelo do gemini\n",
        "\n",
        "response = client.models.generate_content(\n",
        "    model = \"gemini-2.0-flash\",\n",
        "    contents = [\n",
        "        types.Content(\n",
        "            role = \"user\",\n",
        "            parts = [types.Part(text='Conte um provébio popular !')]\n",
        "        )\n",
        "    ]\n",
        "\n",
        ")"
      ]
    },
    {
      "cell_type": "code",
      "execution_count": null,
      "id": "4e1a0e01",
      "metadata": {
        "id": "4e1a0e01",
        "outputId": "cda6bd63-900d-4786-e614-4b7ede31397a"
      },
      "outputs": [
        {
          "name": "stdout",
          "output_type": "stream",
          "text": [
            "Com certeza! Um provérbio popular bem conhecido é:\n",
            "\n",
            "**\"Mais vale um pássaro na mão do que dois voando.\"**\n",
            "\n",
            "Esse provérbio significa que é melhor valorizar e se contentar com o que já se tem, mesmo que seja pouco, do que arriscar perder tudo ao tentar alcançar algo maior ou mais valioso que é incerto.\n",
            "\n"
          ]
        }
      ],
      "source": [
        "print(response.candidates[0].content.parts[0].text)"
      ]
    }
  ],
  "metadata": {
    "kernelspec": {
      "display_name": "Gemine",
      "language": "python",
      "name": "python3"
    },
    "language_info": {
      "codemirror_mode": {
        "name": "ipython",
        "version": 3
      },
      "file_extension": ".py",
      "mimetype": "text/x-python",
      "name": "python",
      "nbconvert_exporter": "python",
      "pygments_lexer": "ipython3",
      "version": "3.13.9"
    },
    "colab": {
      "provenance": [],
      "include_colab_link": true
    }
  },
  "nbformat": 4,
  "nbformat_minor": 5
}