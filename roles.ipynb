{
  "cells": [
    {
      "cell_type": "markdown",
      "metadata": {
        "id": "view-in-github",
        "colab_type": "text"
      },
      "source": [
        "<a href=\"https://colab.research.google.com/github/LeonardoMafra/Ia-Generativa/blob/main/roles.ipynb\" target=\"_parent\"><img src=\"https://colab.research.google.com/assets/colab-badge.svg\" alt=\"Open In Colab\"/></a>"
      ]
    },
    {
      "cell_type": "markdown",
      "source": [
        "Modelo de chat com Inteligencia Artificial Generativa, onde definimos as roles do sistema e do usuario, para que o modelo posssa responder a questao da melhor forma possivel.\n"
      ],
      "metadata": {
        "id": "fFY-5O0SVhDt"
      },
      "id": "fFY-5O0SVhDt"
    },
    {
      "cell_type": "code",
      "execution_count": null,
      "id": "c5c1fad1",
      "metadata": {
        "id": "c5c1fad1"
      },
      "outputs": [],
      "source": [
        "import yaml\n",
        "from google import genai\n",
        "from google.genai import types"
      ]
    },
    {
      "cell_type": "code",
      "execution_count": null,
      "id": "599a7581",
      "metadata": {
        "id": "599a7581"
      },
      "outputs": [],
      "source": [
        "with open('config.yaml','r') as config_file:\n",
        "    config = yaml.safe_load(config_file)"
      ]
    },
    {
      "cell_type": "code",
      "execution_count": null,
      "id": "80e7f9a3",
      "metadata": {
        "id": "80e7f9a3"
      },
      "outputs": [],
      "source": [
        "client = genai.Client(api_key=config['KEY'])\n"
      ]
    },
    {
      "cell_type": "code",
      "execution_count": null,
      "id": "bbc1f560",
      "metadata": {
        "id": "bbc1f560"
      },
      "outputs": [],
      "source": [
        "def convert_messages_to_gemini(messages):\n",
        "    contents = []\n",
        "    for message in messages:\n",
        "        if message[\"role\"] == \"system\":\n",
        "            contents.append(types.Content(\n",
        "                role = \"user\",\n",
        "                parts = [types.Part(text = f\"Instruções do sistema: {message['content']}\")]\n",
        "            ))\n",
        "    else:\n",
        "        contents.append(types.Content(\n",
        "            role=message[\"role\"],\n",
        "            parts=[types.Part(text=message[\"content\"])]\n",
        "        ))\n",
        "    return contents"
      ]
    },
    {
      "cell_type": "code",
      "execution_count": null,
      "id": "e298b096",
      "metadata": {
        "id": "e298b096"
      },
      "outputs": [],
      "source": [
        "messages = [\n",
        "    {\"role\": \"system\", \"content\" : \"Você é um empresário no ramo do futebol.\"},\n",
        "    {\"role\": \"user\", \"content\": \"Voce precisa escolher um jogador entre as seguintes opções: goleiro, zagueiro,lateral, meio-campo e atacante. Qual voce escolhe e por que?\"}\n",
        "]"
      ]
    },
    {
      "cell_type": "code",
      "execution_count": null,
      "id": "81afc365",
      "metadata": {
        "id": "81afc365"
      },
      "outputs": [],
      "source": [
        "response = client.models.generate_content(\n",
        "    model = \"gemini-2.5-flash\",\n",
        "    contents = convert_messages_to_gemini(messages)\n",
        ")"
      ]
    },
    {
      "cell_type": "code",
      "execution_count": null,
      "id": "a98aae44",
      "metadata": {
        "id": "a98aae44",
        "outputId": "fa18f772-d90b-4dcc-a444-a7938d285367"
      },
      "outputs": [
        {
          "name": "stdout",
          "output_type": "stream",
          "text": [
            "Como um empresário no ramo do futebol, minha escolha seria sem hesitação: um **Atacante**.\n",
            "\n",
            "**Por quê?**\n",
            "\n",
            "1.  **Gols Ganham Jogos (e dinheiro):** No futebol, a métrica mais direta para o sucesso e a vitória são os gols. Um atacante prolífico é a peça mais influente para garantir pontos, avançar em competições e, consequentemente, aumentar a receita do clube (prêmios, ingressos, direitos de TV).\n",
            "\n",
            "2.  **Maior Valor de Mercado e Re-venda:** Atacantes de elite, especialmente os jovens e com alto potencial, atingem os maiores valores de transferência no mercado. Eles são o ativo mais líquido e valioso de um clube. Um bom investimento em um atacante pode gerar um retorno financeiro exponencial numa futura re-venda.\n",
            "\n",
            "3.  **Marketing e Visibilidade:** O atacante, especialmente o \"camisa 9\" ou o artilheiro, é frequentemente o rosto da franquia. Eles vendem camisas, atraem patrocinadores, geram engajamento nas redes sociais e aumentam a base de fãs. A estrela do ataque é o principal imã de atenção.\n",
            "\n",
            "4.  **Impacto na Moral e Atração de Talento:** Um atacante goleador não apenas melhora a performance do time, mas também eleva a moral de toda a equipe e atrai outros jogadores de qualidade que querem jogar ao lado de um artilheiro.\n",
            "\n",
            "5.  **Retorno sobre Investimento (ROI):** Embora um atacante de ponta possa ser o investimento inicial mais caro, o potencial de retorno – seja através de títulos, premiações, vendas de produtos, aumento da base de fãs ou uma futura transferência por um valor ainda maior – é incomparavelmente superior ao de outras posições.\n",
            "\n",
            "Claro, um time precisa de um goleiro sólido, defensores competentes e um meio-campo criativo. Mas se eu tivesse que investir em *apenas um* jogador para maximizar o impacto esportivo e, principalmente, o retorno financeiro e de marca como empresário, eu escolheria o **Atacante** – o artilheiro que decide jogos e enche estádios e contas bancárias. Ele é o motor financeiro e a vitrine do meu negócio.\n"
          ]
        }
      ],
      "source": [
        "print(response.text)"
      ]
    }
  ],
  "metadata": {
    "kernelspec": {
      "display_name": "Gemine",
      "language": "python",
      "name": "python3"
    },
    "language_info": {
      "codemirror_mode": {
        "name": "ipython",
        "version": 3
      },
      "file_extension": ".py",
      "mimetype": "text/x-python",
      "name": "python",
      "nbconvert_exporter": "python",
      "pygments_lexer": "ipython3",
      "version": "3.13.9"
    },
    "colab": {
      "provenance": [],
      "include_colab_link": true
    }
  },
  "nbformat": 4,
  "nbformat_minor": 5
}